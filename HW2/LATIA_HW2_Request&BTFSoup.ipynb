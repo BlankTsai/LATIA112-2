{
  "nbformat": 4,
  "nbformat_minor": 0,
  "metadata": {
    "colab": {
      "provenance": []
    },
    "kernelspec": {
      "name": "python3",
      "display_name": "Python 3"
    },
    "language_info": {
      "name": "python"
    }
  },
  "cells": [
    {
      "cell_type": "markdown",
      "source": [
        "# **學習分析工具實務應用:作業 2**\n",
        "## Request&BeautifulSoup ver.\n",
        "### 41271121H蔡廷軒"
      ],
      "metadata": {
        "id": "PAJYb9PGuQ6g"
      }
    },
    {
      "cell_type": "markdown",
      "source": [
        "## 導入BeautifulSoup等工具\n"
      ],
      "metadata": {
        "id": "YAPjxQ-HtZFn"
      }
    },
    {
      "cell_type": "code",
      "execution_count": 1,
      "metadata": {
        "colab": {
          "base_uri": "https://localhost:8080/"
        },
        "id": "N1yiPWLlFFSB",
        "outputId": "1c5cb363-f751-4d3a-b004-6fa7657c1833"
      },
      "outputs": [
        {
          "output_type": "stream",
          "name": "stdout",
          "text": [
            "<html><body><p>Hello World!123344</p></body></html>\n"
          ]
        }
      ],
      "source": [
        "# 使用HTML字串建立BeautifulSoup物件(Ch3_2_1.py)\n",
        "# 這段程式碼使用subprocess模組來以子進程的方式呼叫pip，從而安裝lxml套件。接著，\n",
        "# 從bs4套件中導入BeautifulSoup。最後，使用BeautifulSoup來解析HTML字串並建立soup物件，並將其列印出來。\n",
        "\n",
        "\n",
        "# 導入sys模組，它是Python的一個內建模組，提供與Python解釋器相關的函數和變量。\n",
        "import sys\n",
        "\n",
        "# 導入subprocess模組，它用於建立子進程，以便在Python程式中執行外部命令和程序。\n",
        "import subprocess\n",
        "\n",
        "# 執行pip install lxml命令，以安裝lxml套件。sys.executable取得當前Python解釋器的路徑，\n",
        "# '-m'選項表示使用模組的方式執行，這裡是以pip模組來安裝套件。\n",
        "subprocess.check_call([sys.executable, '-m', 'pip', 'install', 'lxml'])\n",
        "\n",
        "# 從bs4套件中導入BeautifulSoup，用於解析HTML或XML文件。\n",
        "from bs4 import BeautifulSoup\n",
        "\n",
        "# 定義一個 HTML 字串。\n",
        "html_str = \"<p>Hello World!123344</p>\"\n",
        "\n",
        "# 使用BeautifulSoup來解析HTML字串，並建立一個名為soup的BeautifulSoup物件，使用的解析器是lxml。\n",
        "# 這個soup物件可以用來提取和操作HTML中的資料。\n",
        "soup = BeautifulSoup(html_str, \"lxml\")\n",
        "\n",
        "# 列印soup物件，以查看解析後的HTML結構。\n",
        "print(soup)\n"
      ]
    },
    {
      "cell_type": "markdown",
      "source": [
        "## 主程式碼"
      ],
      "metadata": {
        "id": "2IgyFs0n-QTP"
      }
    },
    {
      "cell_type": "code",
      "source": [
        "#導入requests\n",
        "import requests as req\n",
        "\n",
        "#定義url變數為104人力銀行的網址，其中包含了特定的查詢參數，用來搜尋關鍵字為\"科技業\"的職缺。\n",
        "url = (\"https://www.104.com.tw/jobs/search/?svrd=1&jobsource=cmw_redirect&keyword=%E7%A7%91%E6%8A%80%E6%A5%AD\")\n",
        "\n",
        "#向指定的網址發送了一個HTTP.GET請求\n",
        "r = req.get(url)\n",
        "\n",
        "#使用BeautifulSoup模組來解析網頁的HTML結構\n",
        "soup = BeautifulSoup(r.text, \"lxml\")\n",
        "\n",
        "#定義四個array等等用來存放爬取內容，方便於撰寫輸出成CSV檔時取用\n",
        "arr1 = []\n",
        "arr2 = []\n",
        "arr3 = []\n",
        "arr4 = []\n",
        "\n",
        "# 查找第一頁搜尋結果中各工作標題\n",
        "titles = soup.select(\"#js-job-content > article > div.b-block__left > h2 > a\")\n",
        "\n",
        "# 查找第一頁搜尋結果中工作地點、年資要求、學歷要求\n",
        "works = soup.select(\"#js-job-content > article > div.b-block__left > .job-list-intro\")\n",
        "\n",
        "# 列印第一頁搜尋結果中各工作標題。\n",
        "for title in titles:\n",
        "  print(title.text)\n",
        "  arr1.append(title.text)\n",
        "\n",
        "# 列印第一頁搜尋結果中各工作地點。\n",
        "for place in works:\n",
        "  print(place.select(\"li\")[0].text)\n",
        "  arr2.append(place.select(\"li\")[0].text)\n",
        "\n",
        "# 列印第一頁搜尋結果中各年資要求。\n",
        "for year in works:\n",
        "  print(place.select(\"li\")[1].text)\n",
        "  arr3.append(place.select(\"li\")[1].text)\n",
        "\n",
        "# 列印第一頁搜尋結果中各學歷要求。\n",
        "for school in works:\n",
        "  print(place.select(\"li\")[2].text)\n",
        "  arr4.append(place.select(\"li\")[2].text)\n",
        "\n",
        "#導入CSV\n",
        "import csv\n",
        "\n",
        "#將爬取內容存儲成CSV，並定義了表格標題欄為[\"工作標題\",\"工作地點\",\"年資要求\",\"學歷要求\"]\n",
        "csvfile = \"./LATIA_HW2_ReqwithBTFS.csv\"\n",
        "\n",
        "with open(csvfile, 'w+', newline='') as fp:\n",
        "  writer = csv.writer(fp)\n",
        "  writer.writerow([\"工作標題\",\"工作地點\",\"年資要求\",\"學歷要求\"])\n",
        "\n",
        "  for i in range(len(arr1)):\n",
        "    print([arr1[i],arr2[i],arr3[i],arr4[i]])\n",
        "    writer.writerow([arr1[i],arr2[i],arr3[i],arr4[i]])\n"
      ],
      "metadata": {
        "id": "15fJ4GyB-Uvw",
        "colab": {
          "base_uri": "https://localhost:8080/"
        },
        "outputId": "e9b8f587-7f20-47e8-8fd8-fb10d4417c2e"
      },
      "execution_count": 8,
      "outputs": [
        {
          "output_type": "stream",
          "name": "stdout",
          "text": [
            "成品加工技術員-津貼另計\n",
            "硬體主任工程師（組織擴編）\n",
            "HR -  IT科技業招募/人事\n",
            "【內湖】獵才顧問（科技業）Talent Acquisition Consultant (Tech Industry)\n",
            "(內部職缺招募）科技業部門＿獵才招募顧問及實習生\n",
            "【內部職缺】招募顧問 (科技業) / IT Recruiter/ Researcher/ Account Executive A14\n",
            "派遣高薪！【Forbes前40強_社媒龍頭美商(台北)_Supply Chain Analyst】歡迎有5年以上消費性電子產品科技業supply chain經驗的您！KA_840\n",
            "【擴編中】業務人員－機器人科技業務部\n",
            "半導體科技業 人資人員\n",
            "產品客服專員－機器人科技業務部(擴編中)\n",
            "【 5G+低軌衛星科技業】行政助理\n",
            "上市台商科技業-C&B manager in 竹科(992)\n",
            "【 5G+低軌衛星科技業】國外業務助理\n",
            "【 5G+低軌衛星科技業】生產助理\n",
            "駐點美國或歐洲科技業業務-202AC\n",
            "【知名南港伺服器美商_Sales Admin】(科技業跳槽機會/外商環境/適合個性偏活潑外向者)_KA_816\n",
            "【 5G+低軌衛星科技業】清毛邊人員\n",
            "AH- [跨國外商科技業] C&B Specialist (兩年C&B 薪酬經驗/薪資福利優!)\n",
            "中部地區【科技業/製造業/資訊科技】【工程師】職務專區/歡迎專業領域人才投遞,TCS_670\n",
            "DS-【知名外商科技業_業務助理】月薪35-45K/日文精通/新竹\n",
            "☛誠徵 新同事、好夥伴☚【內部職缺】獵頭/招募顧問 <科技業>】高雄_人事招募顧問\n",
            "KH-信義區稀有機會!! 跨國外商軟體科技業 - 薪酬專員 C&B Specialist (兩年經驗/薪資優!)\n",
            "高雄市路竹區\n",
            "新北市新店區\n",
            "台北市大安區\n",
            "台北市內湖區\n",
            "台北市松山區\n",
            "台北市松山區\n",
            "台北市信義區\n",
            "台北市中山區\n",
            "台北市內湖區\n",
            "台北市中山區\n",
            "基隆市七堵區\n",
            "新竹縣寶山鄉\n",
            "基隆市七堵區\n",
            "基隆市七堵區\n",
            "美加地區\n",
            "台北市南港區\n",
            "基隆市七堵區\n",
            "台北市信義區\n",
            "台中市西屯區\n",
            "新竹市\n",
            "高雄市新興區\n",
            "台北市信義區\n",
            "2年以上\n",
            "2年以上\n",
            "2年以上\n",
            "2年以上\n",
            "2年以上\n",
            "2年以上\n",
            "2年以上\n",
            "2年以上\n",
            "2年以上\n",
            "2年以上\n",
            "2年以上\n",
            "2年以上\n",
            "2年以上\n",
            "2年以上\n",
            "2年以上\n",
            "2年以上\n",
            "2年以上\n",
            "2年以上\n",
            "2年以上\n",
            "2年以上\n",
            "2年以上\n",
            "2年以上\n",
            "大學\n",
            "大學\n",
            "大學\n",
            "大學\n",
            "大學\n",
            "大學\n",
            "大學\n",
            "大學\n",
            "大學\n",
            "大學\n",
            "大學\n",
            "大學\n",
            "大學\n",
            "大學\n",
            "大學\n",
            "大學\n",
            "大學\n",
            "大學\n",
            "大學\n",
            "大學\n",
            "大學\n",
            "大學\n",
            "['成品加工技術員-津貼另計', '高雄市路竹區', '2年以上', '大學']\n",
            "['硬體主任工程師（組織擴編）', '新北市新店區', '2年以上', '大學']\n",
            "['HR -  IT科技業招募/人事', '台北市大安區', '2年以上', '大學']\n",
            "['【內湖】獵才顧問（科技業）Talent Acquisition Consultant (Tech Industry)', '台北市內湖區', '2年以上', '大學']\n",
            "['(內部職缺招募）科技業部門＿獵才招募顧問及實習生', '台北市松山區', '2年以上', '大學']\n",
            "['【內部職缺】招募顧問 (科技業) / IT Recruiter/ Researcher/ Account Executive A14', '台北市松山區', '2年以上', '大學']\n",
            "['派遣高薪！【Forbes前40強_社媒龍頭美商(台北)_Supply Chain Analyst】歡迎有5年以上消費性電子產品科技業supply chain經驗的您！KA_840', '台北市信義區', '2年以上', '大學']\n",
            "['【擴編中】業務人員－機器人科技業務部', '台北市中山區', '2年以上', '大學']\n",
            "['半導體科技業 人資人員', '台北市內湖區', '2年以上', '大學']\n",
            "['產品客服專員－機器人科技業務部(擴編中)', '台北市中山區', '2年以上', '大學']\n",
            "['【 5G+低軌衛星科技業】行政助理', '基隆市七堵區', '2年以上', '大學']\n",
            "['上市台商科技業-C&B manager in 竹科(992)', '新竹縣寶山鄉', '2年以上', '大學']\n",
            "['【 5G+低軌衛星科技業】國外業務助理', '基隆市七堵區', '2年以上', '大學']\n",
            "['【 5G+低軌衛星科技業】生產助理', '基隆市七堵區', '2年以上', '大學']\n",
            "['駐點美國或歐洲科技業業務-202AC', '美加地區', '2年以上', '大學']\n",
            "['【知名南港伺服器美商_Sales Admin】(科技業跳槽機會/外商環境/適合個性偏活潑外向者)_KA_816', '台北市南港區', '2年以上', '大學']\n",
            "['【 5G+低軌衛星科技業】清毛邊人員', '基隆市七堵區', '2年以上', '大學']\n",
            "['AH- [跨國外商科技業] C&B Specialist (兩年C&B 薪酬經驗/薪資福利優!)', '台北市信義區', '2年以上', '大學']\n",
            "['中部地區【科技業/製造業/資訊科技】【工程師】職務專區/歡迎專業領域人才投遞,TCS_670', '台中市西屯區', '2年以上', '大學']\n",
            "['DS-【知名外商科技業_業務助理】月薪35-45K/日文精通/新竹', '新竹市', '2年以上', '大學']\n",
            "['☛誠徵 新同事、好夥伴☚【內部職缺】獵頭/招募顧問 <科技業>】高雄_人事招募顧問', '高雄市新興區', '2年以上', '大學']\n",
            "['KH-信義區稀有機會!! 跨國外商軟體科技業 - 薪酬專員 C&B Specialist (兩年經驗/薪資優!)', '台北市信義區', '2年以上', '大學']\n"
          ]
        }
      ]
    }
  ]
}