{
  "nbformat": 4,
  "nbformat_minor": 0,
  "metadata": {
    "colab": {
      "provenance": []
    },
    "kernelspec": {
      "name": "python3",
      "display_name": "Python 3"
    },
    "language_info": {
      "name": "python"
    }
  },
  "cells": [
    {
      "cell_type": "code",
      "execution_count": 5,
      "metadata": {
        "colab": {
          "base_uri": "https://localhost:8080/"
        },
        "id": "ilkaJrw7PjEI",
        "outputId": "81e64f4a-9836-4c1c-99c0-cba008ef6cd0"
      },
      "outputs": [
        {
          "output_type": "stream",
          "name": "stdout",
          "text": [
            "Mounted at /content/gdrive/\n",
            "total 91\n",
            "-rw------- 1 root root 92484 Feb 27 06:25 112_student.csv\n"
          ]
        }
      ],
      "source": [
        "from google.colab import drive\n",
        "drive.mount('/content/gdrive/', force_remount=True)\n",
        "\n",
        "import os\n",
        "os.chdir(\"/content/gdrive/My Drive/\")\n",
        "!ls -l \"/content/gdrive/My Drive/112-2_LATIA/\"\n",
        "#!ls -l \"自行填寫正確的路徑\"\n",
        "\n"
      ]
    },
    {
      "cell_type": "code",
      "source": [
        "import pandas as pd\n",
        "\n",
        "csv_file = './112-2_LATIA/112_student.csv'\n",
        "#csv_file =\"自行填寫正確的路徑\"\n",
        "\n",
        "#columns = [\n",
        "#    \"學年度\",\"學校代碼\",\"學校名稱\",\"日間∕進修別\",\"等級別\",\"總計\",\"男生計\",\n",
        "#    \"女生計\",\"一年級男\",\"一年級女\",\"二年級男\",\"二年級女\",\"三年級男\",\"三年級女\",\n",
        "#    \"四年級男\",\"四年級女\",\"五年級男\",\"五年級女\",\"六年級男\",\"六年級女\",\n",
        "#    \"七年級男\",\"七年級女\",\"延修生男\",\"延修生女\",\"縣市名稱\",\"體系別\"\n",
        "#]\n",
        "df = pd.read_csv(csv_file, encoding='utf-8')\n",
        "#print(df.head())\n",
        "\n",
        "#查看資料欄位資訊\n",
        "print(df.info(verbose=True, show_counts=True))\n",
        "\n",
        "#查看資料的統計學資訊描述\n",
        "#print(df.describe())"
      ],
      "metadata": {
        "colab": {
          "base_uri": "https://localhost:8080/"
        },
        "id": "x7ll2xSwanvx",
        "outputId": "fa8bc325-2de1-45fa-c62c-6f254f3d7cfe"
      },
      "execution_count": 6,
      "outputs": [
        {
          "output_type": "stream",
          "name": "stdout",
          "text": [
            "<class 'pandas.core.frame.DataFrame'>\n",
            "RangeIndex: 764 entries, 0 to 763\n",
            "Data columns (total 26 columns):\n",
            " #   Column  Non-Null Count  Dtype \n",
            "---  ------  --------------  ----- \n",
            " 0   學年度     764 non-null    int64 \n",
            " 1   學校代碼    764 non-null    int64 \n",
            " 2   學校名稱    764 non-null    object\n",
            " 3   日間∕進修別  764 non-null    object\n",
            " 4   等級別     764 non-null    object\n",
            " 5   總計      764 non-null    int64 \n",
            " 6   男生計     764 non-null    int64 \n",
            " 7   女生計     764 non-null    int64 \n",
            " 8   一年級男    764 non-null    int64 \n",
            " 9   一年級女    764 non-null    int64 \n",
            " 10  二年級男    764 non-null    int64 \n",
            " 11  二年級女    764 non-null    int64 \n",
            " 12  三年級男    764 non-null    int64 \n",
            " 13  三年級女    764 non-null    int64 \n",
            " 14  四年級男    764 non-null    int64 \n",
            " 15  四年級女    764 non-null    int64 \n",
            " 16  五年級男    764 non-null    int64 \n",
            " 17  五年級女    764 non-null    int64 \n",
            " 18  六年級男    764 non-null    int64 \n",
            " 19  六年級女    764 non-null    int64 \n",
            " 20  七年級男    764 non-null    int64 \n",
            " 21  七年級女    764 non-null    int64 \n",
            " 22  延修生男    764 non-null    int64 \n",
            " 23  延修生女    764 non-null    int64 \n",
            " 24  縣市名稱    764 non-null    object\n",
            " 25  體系別     764 non-null    object\n",
            "dtypes: int64(21), object(5)\n",
            "memory usage: 155.3+ KB\n",
            "None\n"
          ]
        }
      ]
    }
  ]
}